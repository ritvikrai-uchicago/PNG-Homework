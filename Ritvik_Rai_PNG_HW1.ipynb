{
  "nbformat": 4,
  "nbformat_minor": 0,
  "metadata": {
    "colab": {
      "provenance": [],
      "include_colab_link": true
    },
    "kernelspec": {
      "name": "python3",
      "display_name": "Python 3"
    },
    "language_info": {
      "name": "python"
    }
  },
  "cells": [
    {
      "cell_type": "markdown",
      "metadata": {
        "id": "view-in-github",
        "colab_type": "text"
      },
      "source": [
        "<a href=\"https://colab.research.google.com/github/ritvikrai-uchicago/PNG-Homework/blob/main/Ritvik_Rai_PNG_HW1.ipynb\" target=\"_parent\"><img src=\"https://colab.research.google.com/assets/colab-badge.svg\" alt=\"Open In Colab\"/></a>"
      ]
    },
    {
      "cell_type": "markdown",
      "source": [
        "Paragon National Group Spring 2022\n",
        "Computer Science / Data Science Track\n",
        "HW 1\n",
        "\n",
        "Assigned: March 29, 2022\n",
        "Due: April 4, 2022 11:59pm\n",
        "\n",
        "This is the first programming assignment of the computer science track. For each function, a skeleton is provided, where your job is to fill the *TODO* out. Each function is followed by a few lines of code to test if your function works properly. The questions will cover the topics learned in the first lecture, which entailed print statements, various data types, variables, basic operations, and conditionals."
      ],
      "metadata": {
        "id": "uVALs4MG4rSl"
      }
    },
    {
      "cell_type": "code",
      "source": [
        "# This function prints out a sentence saying \"Welcome to the start of the PNG CS\n",
        "# track\"\n",
        "def print_welcome_message():\n",
        "    print('Welcome to the start of the PNG CS track')\n",
        "\n",
        "# For testing\n",
        "print_welcome_message()"
      ],
      "metadata": {
        "id": "QA6vGQO344pM",
        "colab": {
          "base_uri": "https://localhost:8080/"
        },
        "outputId": "616716ae-e8c3-4b84-bbc8-5fd4cdd5a831"
      },
      "execution_count": 1,
      "outputs": [
        {
          "output_type": "stream",
          "name": "stdout",
          "text": [
            "Welcome to the start of the PNG CS track\n"
          ]
        }
      ]
    },
    {
      "cell_type": "code",
      "source": [
        "# This function takes the number of cents as an argument and prints the best \n",
        "# combination of quarters, dimes, nickels, and pennies in descending order of\n",
        "# importance (i.e. 25 cents can be split into 25 pennies, but quarters is more\n",
        "# important, thus it would be split into 1 quarter). Assume that the argument given\n",
        "# is non-negative.\n",
        "# Ex) split_change(1) -> 0 quarters, 0 dimes, 0 nickels, 1 penny\n",
        "#     split_change(20) -> 0 quarters, 2 dimes, 0 nickels, 0 pennies\n",
        "#     split_change(67) -> 2 quarters, 1 dime, 1 nickel, 2 pennies \n",
        "def split_change(cents):\n",
        "    q, d, n, p = 0, 0, 0, 0\n",
        "    q = cents // 25\n",
        "    cents %= 25\n",
        "    d = cents // 10\n",
        "    cents %= 10\n",
        "    n = cents // 5\n",
        "    cents %= 5\n",
        "    p = cents\n",
        "    print(\"{} quarters, {} dimes, {} nickels, {} pennies\".format(q, d, n, p))\n",
        "    # Did not format for singular vs plural assuming its not the point of the ex\n",
        "\n",
        "# For testing (it is encouraged to test other values as well)\n",
        "split_change(1)\n",
        "split_change(20)\n",
        "split_change(67)"
      ],
      "metadata": {
        "id": "ctrPjoQT470p",
        "colab": {
          "base_uri": "https://localhost:8080/"
        },
        "outputId": "01f96054-b180-4f2e-c5bd-f0a07e5b28ab"
      },
      "execution_count": 14,
      "outputs": [
        {
          "output_type": "stream",
          "name": "stdout",
          "text": [
            "0 quarters, 0 dimes, 0 nickels, 1 pennies\n",
            "0 quarters, 2 dimes, 0 nickels, 0 pennies\n",
            "2 quarters, 1 dimes, 1 nickels, 2 pennies\n"
          ]
        }
      ]
    },
    {
      "cell_type": "code",
      "source": [
        "# This function takes an array of strings of finite length (the strings can only \n",
        "# either be 'H', 'h', 'T' or 't') as arguments and returns the number of heads \n",
        "# as an integer. Assume that no other strings can be inputted other than those \n",
        "# four types.\n",
        "# Ex) number_of_heads(['H', 'h', 'H', 'H', 'h', 'h', 'H']) -> 7\n",
        "#     number_of_heads(['H', 'T', 'H', 't']) -> 2\n",
        "#     number_of_heads([]) -> 0\n",
        "def number_of_heads(coin_array):\n",
        "    result = coin_array.count(\"h\") + coin_array.count(\"H\")\n",
        "    return result\n",
        "\n",
        "# For testing (it is encouraged to test other values as well)\n",
        "print(number_of_heads(['H', 'h', 'H', 'H', 'h', 'h', 'H']))\n",
        "print(number_of_heads(['H', 'T', 'H', 't']))\n",
        "print(number_of_heads([]))"
      ],
      "metadata": {
        "id": "flIUWBz64_I0",
        "colab": {
          "base_uri": "https://localhost:8080/"
        },
        "outputId": "dd82f268-417f-424c-f2dd-24b6adb128b3"
      },
      "execution_count": 18,
      "outputs": [
        {
          "output_type": "stream",
          "name": "stdout",
          "text": [
            "7\n",
            "2\n",
            "0\n"
          ]
        }
      ]
    },
    {
      "cell_type": "code",
      "source": [
        "# This function takes two dictionaries and returns a single merged dictionary.\n",
        "# If there is a repeated key in both dictionaries, then set the value of that\n",
        "# key in the merged dictionary as the value for that key in dict1\n",
        "# Ex) merge_dictionaries({}, {})\n",
        "#       -> {}\n",
        "#     merge_dictionaries({'PNG': 'Winter'}, {'CS': 'Winter'})\n",
        "#       -> {'PNG': 'Winter', 'CS': 'Winter'}\n",
        "#     merge_dictionaries({'PNG': 'Winter'}, {'PNG': 'Fall'})\n",
        "#       -> {'PNG': 'Winter'}\n",
        "#     merge_dictionaries({'PNG': 'Winter', 'CS': 'Fall'}, {'Quant': 'Spring'})\n",
        "#       -> {'PNG': 'Winter', 'CS': 'Fall', 'Quant': 'Spring'}\n",
        "def merge_dictionaries(dict1, dict2):\n",
        "    result = {}\n",
        "    for key in dict1:\n",
        "      result[key] = dict1[key]\n",
        "    for key in dict2:\n",
        "      if key in result:\n",
        "        continue\n",
        "      result[key] = dict2[key]\n",
        "    return result\n",
        "\n",
        "# For testing (it is encouraged to test other values as well)\n",
        "print(merge_dictionaries({'PNG': 'Winter'}, {'CS': 'Winter'}))\n",
        "print(merge_dictionaries({'PNG': 'Winter'}, {'PNG': 'Fall'}))\n",
        "print(merge_dictionaries({'PNG': 'Winter', 'CS': 'Fall'}, {'Quant': 'Spring'}))"
      ],
      "metadata": {
        "id": "kKUWAFnp5Fjv",
        "colab": {
          "base_uri": "https://localhost:8080/"
        },
        "outputId": "0d3755da-0e06-4505-94cf-f2a756f6a3cf"
      },
      "execution_count": 20,
      "outputs": [
        {
          "output_type": "stream",
          "name": "stdout",
          "text": [
            "{'PNG': 'Winter', 'CS': 'Winter'}\n",
            "{'PNG': 'Winter'}\n",
            "{'PNG': 'Winter', 'CS': 'Fall', 'Quant': 'Spring'}\n"
          ]
        }
      ]
    }
  ]
}
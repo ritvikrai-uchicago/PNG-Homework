{
  "nbformat": 4,
  "nbformat_minor": 0,
  "metadata": {
    "colab": {
      "provenance": [],
      "include_colab_link": true
    },
    "kernelspec": {
      "name": "python3",
      "display_name": "Python 3"
    },
    "language_info": {
      "name": "python"
    }
  },
  "cells": [
    {
      "cell_type": "markdown",
      "metadata": {
        "id": "view-in-github",
        "colab_type": "text"
      },
      "source": [
        "<a href=\"https://colab.research.google.com/github/ritvikrai-uchicago/PNG-Homework/blob/main/Ritvik_Rai_PNG_HW2.ipynb\" target=\"_parent\"><img src=\"https://colab.research.google.com/assets/colab-badge.svg\" alt=\"Open In Colab\"/></a>"
      ]
    },
    {
      "cell_type": "markdown",
      "source": [
        "Paragon National Group Winter 2023\n",
        "Computer Science Track\n",
        "HW 2\n",
        "\n",
        "Assigned: January 16, 2022\n",
        "Due: January 22, 2022 11:59pm\n",
        "\n",
        "This is the second programming assignment of the computer science track. For each function, a skeleton is provided, where your job is to fill the *TODO* out. The questions will cover the topics learned in the second lecture, which entailed conditionals, recursive functions, and for and while loops."
      ],
      "metadata": {
        "id": "RWFyCcQ9nc4Q"
      }
    },
    {
      "cell_type": "code",
      "source": [
        "# This function takes a natural number as an argument (so it can't be negative) \n",
        "# and returns a boolean value of true or false that shows whether the inputted \n",
        "# number is a palindrome or not. A palindrome is something that reads the same \n",
        "# backward as forward (i.e. '2002'). Use a for or while for the implementation \n",
        "# of this function.\n",
        "# Ex) iterative_palindrome(1) -> true\n",
        "#     iterative_palindrome(12) -> false\n",
        "#     iterative_palindrome(2468642) -> true\n",
        "def iterative_palindrome(n):\n",
        "    number = n\n",
        "    reverse = 0\n",
        "    while(number != 0):\n",
        "      reverse = reverse*10 + number%10\n",
        "      number //= 10\n",
        "    \n",
        "    return n == reverse\n",
        "    \n",
        "\n",
        "# test functions\n",
        "print(iterative_palindrome(1))\n",
        "print(iterative_palindrome(12))\n",
        "print(iterative_palindrome(2468642))"
      ],
      "metadata": {
        "id": "YjN_xx_EnnVy",
        "colab": {
          "base_uri": "https://localhost:8080/"
        },
        "outputId": "e9553a1e-7e87-486c-fd9e-74da45a8f41a"
      },
      "execution_count": 9,
      "outputs": [
        {
          "output_type": "stream",
          "name": "stdout",
          "text": [
            "True\n",
            "False\n",
            "True\n"
          ]
        }
      ]
    },
    {
      "cell_type": "code",
      "source": [
        "# This function is the same as iterative_palindrome() except instead of using a\n",
        "# loop, implement the function in a recursive way.\n",
        "# Ex) recursive_palindrome(1) -> true\n",
        "#     recursive_palindrome(12) -> false\n",
        "#     recursive_palindrome(2468642) -> true\n",
        "def recursive_palindrome(n):\n",
        "    if len(str(n)) <= 1:\n",
        "        return True\n",
        "    else:\n",
        "        return str(n)[0] == str(n)[-1] and recursive_palindrome(str(n)[1:-1])\n",
        "\n",
        "print(recursive_palindrome(1))\n",
        "print(recursive_palindrome(12))\n",
        "print(recursive_palindrome(2468642))"
      ],
      "metadata": {
        "id": "NawDWFCBnzrY",
        "colab": {
          "base_uri": "https://localhost:8080/"
        },
        "outputId": "e147c597-c48a-4e3a-9469-f2c5762e716f"
      },
      "execution_count": 11,
      "outputs": [
        {
          "output_type": "stream",
          "name": "stdout",
          "text": [
            "True\n",
            "False\n",
            "True\n"
          ]
        }
      ]
    },
    {
      "cell_type": "code",
      "execution_count": 12,
      "metadata": {
        "id": "A08W94p6mzMG",
        "colab": {
          "base_uri": "https://localhost:8080/",
          "height": 322
        },
        "outputId": "2d504da2-8b1d-40e7-e535-361c01b3e275"
      },
      "outputs": [
        {
          "output_type": "error",
          "ename": "FileNotFoundError",
          "evalue": "ignored",
          "traceback": [
            "\u001b[0;31m---------------------------------------------------------------------------\u001b[0m",
            "\u001b[0;31mFileNotFoundError\u001b[0m                         Traceback (most recent call last)",
            "\u001b[0;32m<ipython-input-12-7ba9e5666c67>\u001b[0m in \u001b[0;36m<module>\u001b[0;34m\u001b[0m\n\u001b[1;32m      9\u001b[0m         \u001b[0;32mreturn\u001b[0m \u001b[0mlongest\u001b[0m\u001b[0;34m\u001b[0m\u001b[0;34m\u001b[0m\u001b[0m\n\u001b[1;32m     10\u001b[0m \u001b[0;34m\u001b[0m\u001b[0m\n\u001b[0;32m---> 11\u001b[0;31m \u001b[0mprint\u001b[0m\u001b[0;34m(\u001b[0m\u001b[0mlongest_word\u001b[0m\u001b[0;34m(\u001b[0m\u001b[0;34m'replace with filename'\u001b[0m\u001b[0;34m)\u001b[0m\u001b[0;34m)\u001b[0m\u001b[0;34m\u001b[0m\u001b[0;34m\u001b[0m\u001b[0m\n\u001b[0m",
            "\u001b[0;32m<ipython-input-12-7ba9e5666c67>\u001b[0m in \u001b[0;36mlongest_word\u001b[0;34m(fname)\u001b[0m\n\u001b[1;32m      1\u001b[0m \u001b[0;31m# This function reads a file and returns the longest word in the file.\u001b[0m\u001b[0;34m\u001b[0m\u001b[0;34m\u001b[0m\u001b[0;34m\u001b[0m\u001b[0m\n\u001b[1;32m      2\u001b[0m \u001b[0;32mdef\u001b[0m \u001b[0mlongest_word\u001b[0m\u001b[0;34m(\u001b[0m\u001b[0mfname\u001b[0m\u001b[0;34m)\u001b[0m\u001b[0;34m:\u001b[0m\u001b[0;34m\u001b[0m\u001b[0;34m\u001b[0m\u001b[0m\n\u001b[0;32m----> 3\u001b[0;31m     \u001b[0;32mwith\u001b[0m \u001b[0mopen\u001b[0m\u001b[0;34m(\u001b[0m\u001b[0mfname\u001b[0m\u001b[0;34m,\u001b[0m \u001b[0;34m'r'\u001b[0m\u001b[0;34m)\u001b[0m \u001b[0;32mas\u001b[0m \u001b[0mf\u001b[0m\u001b[0;34m:\u001b[0m\u001b[0;34m\u001b[0m\u001b[0;34m\u001b[0m\u001b[0m\n\u001b[0m\u001b[1;32m      4\u001b[0m         \u001b[0mlongest\u001b[0m \u001b[0;34m=\u001b[0m \u001b[0;34m\"\"\u001b[0m\u001b[0;34m\u001b[0m\u001b[0;34m\u001b[0m\u001b[0m\n\u001b[1;32m      5\u001b[0m         \u001b[0;32mfor\u001b[0m \u001b[0mline\u001b[0m \u001b[0;32min\u001b[0m \u001b[0mf\u001b[0m\u001b[0;34m:\u001b[0m\u001b[0;34m\u001b[0m\u001b[0;34m\u001b[0m\u001b[0m\n",
            "\u001b[0;31mFileNotFoundError\u001b[0m: [Errno 2] No such file or directory: 'replace with filename'"
          ]
        }
      ],
      "source": [
        "# This function reads a file and returns the longest word in the file.\n",
        "def longest_word(fname):\n",
        "    with open(fname, 'r') as f:\n",
        "        longest = \"\"\n",
        "        for line in f:\n",
        "            for word in line.split():\n",
        "                if len(word) > len(longest):\n",
        "                    longest = word\n",
        "        return longest\n",
        "\n",
        "print(longest_word('replace with filename'))"
      ]
    }
  ]
}
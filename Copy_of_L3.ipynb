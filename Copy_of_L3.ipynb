{
  "cells": [
    {
      "cell_type": "markdown",
      "metadata": {
        "colab_type": "text",
        "id": "view-in-github"
      },
      "source": [
        "<a href=\"https://colab.research.google.com/github/ritvikrai-uchicago/PNG-Homework/blob/main/Copy_of_L3.ipynb\" target=\"_parent\"><img src=\"https://colab.research.google.com/assets/colab-badge.svg\" alt=\"Open In Colab\"/></a>"
      ]
    },
    {
      "cell_type": "markdown",
      "metadata": {
        "id": "HJsKAEKjIWjq"
      },
      "source": [
        "1. Quarter-long Project"
      ]
    },
    {
      "cell_type": "markdown",
      "metadata": {
        "id": "7_qRB2kKIWjv"
      },
      "source": [
        "* Learning Objectives:\n",
        "    + Filtering and displaying financial data\n",
        "    + Using your newly acquired Python skills on an actual dataset\n",
        "    + Working example: https://jhsivadas-stock-filter-filter-al7bq7.streamlit.app/\n",
        "    \n",
        "* Implementation: \n",
        "    + We wil provide you a CSV file with stock data\n",
        "    + Create a stock selection filter by financial data\n",
        "    + Build it using Python and Streamlit  \n",
        "\n",
        "* Incentives:\n",
        "    + Top 2 projects will serve as model for other PNG chapters\n",
        "    + And will be implemented with real-world data (we now have a PNG fund)"
      ]
    },
    {
      "cell_type": "markdown",
      "metadata": {
        "id": "u1TMzpIrIWjx"
      },
      "source": [
        "2. Intro to Numpy"
      ]
    },
    {
      "cell_type": "markdown",
      "metadata": {
        "id": "F0skYjPRIWjy"
      },
      "source": [
        "Numpy is a library that we use when working with arrays. It stands for Numerical Python and allows us to perform\n",
        "matrix transformations, filter arrays, and process large amounts of data in a seemingless way. This library has\n",
        "many applications in data science, machine learning, linear algebra, finance, and statistics. </br>\n",
        "\n",
        "Installation:\n",
        "```\n",
        "pip install numpy\n",
        "```\n",
        "\n",
        "Learn more at: https://www.w3schools.com/python/numpy/numpy_intro.asp </br>\n",
        "Examples: https://www.geeksforgeeks.org/python-numpy/ </br>"
      ]
    },
    {
      "cell_type": "code",
      "execution_count": 1,
      "metadata": {
        "colab": {
          "base_uri": "https://localhost:8080/"
        },
        "id": "uqZG8bzhIWjz",
        "outputId": "27dfea2c-8199-46ea-9f77-dbc1a389d7dc"
      },
      "outputs": [
        {
          "name": "stdout",
          "output_type": "stream",
          "text": [
            "Numpy array with rank 1 \n",
            " [ 3  8 10 12]\n"
          ]
        },
        {
          "ename": "ValueError",
          "evalue": "setting an array element with a sequence. The requested array has an inhomogeneous shape after 1 dimensions. The detected shape was (2,) + inhomogeneous part.",
          "output_type": "error",
          "traceback": [
            "\u001b[0;31m---------------------------------------------------------------------------\u001b[0m",
            "\u001b[0;31mValueError\u001b[0m                                Traceback (most recent call last)",
            "Cell \u001b[0;32mIn[1], line 7\u001b[0m\n\u001b[1;32m      5\u001b[0m array1 \u001b[39m=\u001b[39m np\u001b[39m.\u001b[39marray([\u001b[39m3\u001b[39m, \u001b[39m8\u001b[39m, \u001b[39m10\u001b[39m, \u001b[39m12\u001b[39m])\n\u001b[1;32m      6\u001b[0m \u001b[39mprint\u001b[39m(\u001b[39m\"\u001b[39m\u001b[39mNumpy array with rank 1 \u001b[39m\u001b[39m\\n\u001b[39;00m\u001b[39m\"\u001b[39m, array1)\n\u001b[0;32m----> 7\u001b[0m array2 \u001b[39m=\u001b[39m np\u001b[39m.\u001b[39;49marray([[\u001b[39m10\u001b[39;49m, \u001b[39m1\u001b[39;49m],\n\u001b[1;32m      8\u001b[0m                 [\u001b[39m6\u001b[39;49m, \u001b[39m7\u001b[39;49m, \u001b[39m99\u001b[39;49m]])\n\u001b[1;32m      9\u001b[0m \u001b[39mprint\u001b[39m(\u001b[39m\"\u001b[39m\u001b[39mNumpy array with rank 2 \u001b[39m\u001b[39m\\n\u001b[39;00m\u001b[39m\"\u001b[39m, array2)\n\u001b[1;32m     11\u001b[0m \u001b[39m# Creating an array from a tuple\u001b[39;00m\n",
            "\u001b[0;31mValueError\u001b[0m: setting an array element with a sequence. The requested array has an inhomogeneous shape after 1 dimensions. The detected shape was (2,) + inhomogeneous part."
          ]
        }
      ],
      "source": [
        "# Importing numPy\n",
        "import numpy as np\n",
        "\n",
        "# Creating an array from a list\n",
        "array1 = np.array([3, 8, 10, 12])\n",
        "print(\"Numpy array with rank 1 \\n\", array1)\n",
        "array2 = np.array([[10, 1],\n",
        "                [6, 7, 99]])\n",
        "print(\"Numpy array with rank 2 \\n\", array2)\n",
        "\n",
        "# Creating an array from a tuple\n",
        "t_array = np.array((3, 7, 99, 10))\n",
        "print(\"Array created using a tuple\\n\", t_array)"
      ]
    },
    {
      "cell_type": "markdown",
      "metadata": {
        "id": "NkgDWMOAIWj2"
      },
      "source": [
        "* Accessing an array index"
      ]
    },
    {
      "cell_type": "code",
      "execution_count": 2,
      "metadata": {
        "colab": {
          "base_uri": "https://localhost:8080/"
        },
        "id": "4mxkYt_JIWj3",
        "outputId": "070da983-4e4a-4b86-a955-6c38a2307e8f"
      },
      "outputs": [
        {
          "name": "stdout",
          "output_type": "stream",
          "text": [
            "Array with first 2 rows and alternate columns(0 and 3):\n",
            " [[-1.  4.]\n",
            " [ 4.  0.]]\n",
            "[[ -1.    2.    0.    4. ]\n",
            " [  4.   10.    6.    0. ]\n",
            " [  2.6   0.    7.    8. ]\n",
            " [  3.  -10.    9.    2. ]]\n",
            "\n",
            "Elements at indices (1, 3), (0, 2), (2, 1), (3, 0):\n",
            " [0. 0. 0. 3.]\n"
          ]
        }
      ],
      "source": [
        "# Initial Array\n",
        "arr = np.array([[-1, 2, 0, 4],\n",
        "                [4, -0.5, 6, 0],\n",
        "                [2.6, 0, 7, 8],\n",
        "                [3, -10, 9, 2.0]])\n",
        "\n",
        "\n",
        "# Printing a range of Array\n",
        "# with the use of slicing method\n",
        "sliced_arr = arr[:2, ::3]\n",
        "print (\"Array with first 2 rows and\"\n",
        "    \" alternate columns(0 and 3):\\n\", sliced_arr)\n",
        " \n",
        "# Printing elements at\n",
        "# specific Indices\n",
        "Index_arr = arr[[1, 0, 2, 3], \n",
        "                [3, 2, 1, 0]]\n",
        "arr[1][1] = 10\n",
        "print(arr)\n",
        "print (\"\\nElements at indices (1, 3), \"\n",
        "    \"(0, 2), (2, 1), (3, 0):\\n\", Index_arr)"
      ]
    },
    {
      "cell_type": "markdown",
      "metadata": {
        "id": "T_i-d4AVIWj5"
      },
      "source": [
        "* Basic Array Operations"
      ]
    },
    {
      "cell_type": "code",
      "execution_count": 3,
      "metadata": {
        "colab": {
          "base_uri": "https://localhost:8080/"
        },
        "id": "n94k7xreIWj6",
        "outputId": "60957212-f8ba-4981-bc04-09f47396590e"
      },
      "outputs": [
        {
          "name": "stdout",
          "output_type": "stream",
          "text": [
            "Adding 1 to every element: [[11  8  3]\n",
            " [ 5 17 12]]\n",
            "\n",
            "Subtracting 2 from each element: [[ 2.   1.  -1. ]\n",
            " [ 0.  -1.   3.5]]\n",
            "\n",
            "Sum of all array elements:  50\n",
            "\n",
            "Array sum:\n",
            " [[14.  10.   3. ]\n",
            " [ 6.  17.  16.5]]\n",
            "\n",
            "Array multiplication:\n",
            " [[40.  21.   2. ]\n",
            " [ 8.  16.  60.5]]\n"
          ]
        }
      ],
      "source": [
        "# Defining Array 1\n",
        "a = np.array([[10, 7, 2],\n",
        "              [4, 16, 11]])\n",
        " \n",
        "# Defining Array 2\n",
        "b = np.array([[4, 3, 1],\n",
        "              [2, 1, 5.5]])\n",
        "               \n",
        "# Adding 1 to every element\n",
        "print (\"Adding 1 to every element:\", a + 1)\n",
        " \n",
        "# Subtracting 2 from each element\n",
        "print (\"\\nSubtracting 2 from each element:\", b - 2)\n",
        " \n",
        "# sum of array elements\n",
        "# Performing Unary operations\n",
        "print (\"\\nSum of all array \"\n",
        "       \"elements: \", a.sum())\n",
        " \n",
        "# Adding two arrays\n",
        "# Performing Binary operations\n",
        "print (\"\\nArray sum:\\n\", a + b)\n",
        "print (\"\\nArray multiplication:\\n\", a * b)"
      ]
    },
    {
      "cell_type": "markdown",
      "metadata": {
        "id": "Uu95-AzmIWj8"
      },
      "source": [
        "* Data types of a numPy array\n",
        "    + numPy arrays are usually comprised of numbers, but the data types of its elements can be anything.\n",
        "    + The values of a numPy array are stored in what can be conceived as a contiguous block of memory bytes\n",
        "    interpreted by the dtupe object. \n",
        "    + When we create a numPy array, numPy will try to guess a datatype, but functions that construct arrays can\n",
        "    also include an argument to explicitly specify the datatype."
      ]
    },
    {
      "cell_type": "code",
      "execution_count": 4,
      "metadata": {
        "colab": {
          "base_uri": "https://localhost:8080/"
        },
        "id": "_jO96KEcIWj8",
        "outputId": "d020f7b0-e6f3-4490-f132-9d5883147d08"
      },
      "outputs": [
        {
          "name": "stdout",
          "output_type": "stream",
          "text": [
            "Integer Datatype: \n",
            "int64\n",
            "\n",
            "Float Datatype: \n",
            "float64\n",
            "\n",
            "Forcing a Datatype: \n",
            "[1 2 4] int64\n"
          ]
        }
      ],
      "source": [
        "# Integer datatype guessed by Numpy\n",
        "x = np.array([1, 6, 10])  \n",
        "print(\"Integer Datatype: \")\n",
        "print(x.dtype)         \n",
        " \n",
        "# Float datatype guessed by Numpy\n",
        "x = np.array([1.0, 2.0, 2.7]) \n",
        "print(\"\\nFloat Datatype: \")\n",
        "print(x.dtype)  \n",
        " \n",
        "# Forcing a datatype\n",
        "x = np.array([1, 2, 4.6], dtype = np.int64)   \n",
        "print(\"\\nForcing a Datatype: \")\n",
        "print(x, x.dtype)"
      ]
    },
    {
      "cell_type": "markdown",
      "metadata": {
        "id": "14k4ROd-IWj9"
      },
      "source": [
        "* Mathematical Operations on a numPy array\n",
        "    + Operations are performed element-wise\n",
        "    + Most used functions are sum and transpose. \n",
        "    + Transpose is used very often when performing matrix multiplications in \n",
        "    machine learning models."
      ]
    },
    {
      "cell_type": "code",
      "execution_count": 5,
      "metadata": {
        "colab": {
          "base_uri": "https://localhost:8080/"
        },
        "id": "yvETazApIWj-",
        "outputId": "3cd9983a-ea6a-4e34-c531-2d2818e21488"
      },
      "outputs": [
        {
          "name": "stdout",
          "output_type": "stream",
          "text": [
            "Adding two Arrays: \n",
            "[[ 7. 13.]\n",
            " [ 4. 14.]\n",
            " [ 6. 27.]]\n",
            "\n",
            "Addition of Array elements: \n",
            "43.0\n",
            "\n",
            "Square root of array1's elements: \n",
            "[[2.         2.64575131]\n",
            " [1.41421356 2.44948974]\n",
            " [2.23606798 4.35889894]]\n",
            "before\n",
            "[[ 4.  7.]\n",
            " [ 2.  6.]\n",
            " [ 5. 19.]]\n",
            "\n",
            "Transpose of Array 1: \n",
            "[[ 4.  2.  5.]\n",
            " [ 7.  6. 19.]]\n"
          ]
        }
      ],
      "source": [
        "\n",
        "# First Array\n",
        "arr1 = np.array([[4, 7], [2, 6], [5, 19]], \n",
        "                 dtype = np.float64)\n",
        "                  \n",
        "# Second Array\n",
        "arr2 = np.array([[3, 6], [2, 8], [1, 8]], \n",
        "                 dtype = np.float64) \n",
        " \n",
        "# Addition of two Arrays\n",
        "a_sum = np.add(arr1, arr2)\n",
        "print(\"Adding two Arrays: \")\n",
        "print(a_sum)\n",
        " \n",
        "# Addition of all Array elements\n",
        "# using the sum method\n",
        "a_sum1 = np.sum(arr1)\n",
        "print(\"\\nAddition of Array elements: \")\n",
        "print(a_sum1)\n",
        " \n",
        "# Square root of an array\n",
        "a_sqrt = np.sqrt(arr1)\n",
        "print(\"\\nSquare root of array1's elements: \")\n",
        "print(a_sqrt)\n",
        " \n",
        "# Transpose of Array using the in-built function 'T'\n",
        "print(\"before\")\n",
        "print(arr1)\n",
        "arr_t = arr1.T\n",
        "print(\"\\nTranspose of Array 1: \")\n",
        "print(arr_t)"
      ]
    },
    {
      "cell_type": "markdown",
      "metadata": {
        "id": "27mWuO6WIWj-"
      },
      "source": [
        "Other numPy array methods can be fund on the table available here: https://www.geeksforgeeks.org/python-numpy/\n"
      ]
    },
    {
      "cell_type": "markdown",
      "metadata": {
        "id": "fYreYf6DIWj_"
      },
      "source": [
        "3. Intro to Pandas"
      ]
    },
    {
      "cell_type": "markdown",
      "metadata": {
        "id": "d8mQLc29IWkA"
      },
      "source": [
        "* Why Pandas?\n",
        "    + Easy to manipulate data in a table-like manner\n",
        "    + Suitable for very large datasets\n",
        "    + Easy handling of missing data\n",
        "    + Easy time series manipulation\n",
        "    + Easy to merge and filter different tables\n",
        "    \n",
        "* Installation\n",
        "```\n",
        "    pip install pandas\n",
        "```"
      ]
    },
    {
      "cell_type": "markdown",
      "metadata": {
        "id": "0Uu-taaDIWkA"
      },
      "source": [
        "* Series Object\n",
        "    + One dimensional\n",
        "    + Can hold data of any type\n",
        "    + Supports both integer and label-based indexing"
      ]
    },
    {
      "cell_type": "code",
      "execution_count": 6,
      "metadata": {
        "colab": {
          "base_uri": "https://localhost:8080/"
        },
        "id": "9me0nvigIWkA",
        "outputId": "6783665e-4221-4994-8fc0-b2b46c4d7edc"
      },
      "outputs": [
        {
          "name": "stdout",
          "output_type": "stream",
          "text": [
            "Series([], dtype: float64)\n",
            "0    1\n",
            "1    2\n",
            "2    j\n",
            "3    l\n",
            "dtype: object\n"
          ]
        },
        {
          "name": "stderr",
          "output_type": "stream",
          "text": [
            "<ipython-input-6-fc8590e485e7>:5: DeprecationWarning: The default dtype for empty Series will be 'object' instead of 'float64' in a future version. Specify a dtype explicitly to silence this warning.\n",
            "  ser = pd.Series()\n"
          ]
        }
      ],
      "source": [
        "import pandas as pd\n",
        "import numpy as np\n",
        " \n",
        "# Creating empty series\n",
        "ser = pd.Series()\n",
        "\n",
        "# Printing the empty series\n",
        "print(ser)\n",
        " \n",
        "# Creating an array\n",
        "data = np.array([1, 2, 'j', 'l'])\n",
        "\n",
        "# Converting the array to a series\n",
        "ser = pd.Series(data)\n",
        "print(ser)"
      ]
    },
    {
      "cell_type": "markdown",
      "metadata": {
        "id": "rjN2sKK4IWkB"
      },
      "source": [
        "* Pandas Dataframe\n",
        "\n",
        "Two-dimensional tabular data structure of potentially heterogeneous data types and varying size.\n",
        "Comprised of data organized into rows and columns. In practice, we often create tables by loading\n",
        "data contained in a CSV or Excel file. "
      ]
    },
    {
      "cell_type": "code",
      "execution_count": 7,
      "metadata": {
        "colab": {
          "base_uri": "https://localhost:8080/"
        },
        "id": "F7vuv6x5IWkB",
        "outputId": "8abbf8f1-7e7c-4d1a-bb27-117ba6ead136"
      },
      "outputs": [
        {
          "name": "stdout",
          "output_type": "stream",
          "text": [
            "Empty DataFrame\n",
            "Columns: []\n",
            "Index: []\n",
            "         0   1     2\n",
            "0  Welcome  to   PNG\n",
            "1    Class  of  2026\n"
          ]
        }
      ],
      "source": [
        "import pandas as pd\n",
        "   \n",
        "# Calling DataFrame constructor\n",
        "df = pd.DataFrame()\n",
        "print(df)\n",
        " \n",
        "# list of strings\n",
        "lst = [['Welcome', 'to', 'PNG'], [\"Class\", \"of\", 2026]]\n",
        "   \n",
        "# Calling DataFrame constructor on list\n",
        "df = pd.DataFrame(lst)\n",
        "print(df)"
      ]
    },
    {
      "cell_type": "markdown",
      "metadata": {
        "id": "-0RcYpRWIWkC"
      },
      "source": [
        "* Practical Examples\n",
        "    + Available at: https://www.digitalocean.com/community/tutorials/python-pandas-module-tutorial)"
      ]
    },
    {
      "cell_type": "code",
      "execution_count": 8,
      "metadata": {
        "colab": {
          "base_uri": "https://localhost:8080/"
        },
        "id": "18shFlnTIWkC",
        "outputId": "838476a9-6bcb-45b2-c480-1e75e019ec49"
      },
      "outputs": [
        {
          "name": "stdout",
          "output_type": "stream",
          "text": [
            "            State     Capital  Literacy %  Avg High Temp(c)\n",
            "0  Andhra Pradesh   Hyderabad          89                33\n",
            "1     Maharashtra      Mumbai          77                30\n",
            "2       Karnataka   Bengaluru          82                29\n",
            "3          Kerala  Trivandrum          97                31\n",
            "4      Tamil Nadu     Chennai          85                32\n"
          ]
        }
      ],
      "source": [
        "# Creating a dataframe using a hashmap / dictionary\n",
        "\n",
        "import pandas as pd\n",
        "import numpy as np\n",
        "df = pd.DataFrame({\n",
        "    \"State\": ['Andhra Pradesh', 'Maharashtra', 'Karnataka', 'Kerala', 'Tamil Nadu'],\n",
        "    \"Capital\": ['Hyderabad', 'Mumbai', 'Bengaluru', 'Trivandrum', 'Chennai'],\n",
        "    \"Literacy %\": [89, 77, 82, 97,85],\n",
        "    \"Avg High Temp(c)\": [33, 30, 29, 31, 32 ]\n",
        "})\n",
        "print(df)"
      ]
    },
    {
      "cell_type": "code",
      "execution_count": 9,
      "metadata": {
        "colab": {
          "base_uri": "https://localhost:8080/",
          "height": 381
        },
        "id": "nRGSLZjOIWkD",
        "outputId": "daa953e3-2e3a-4e75-e35c-8163d5970ab3"
      },
      "outputs": [
        {
          "ename": "FileNotFoundError",
          "evalue": "ignored",
          "output_type": "error",
          "traceback": [
            "\u001b[0;31m---------------------------------------------------------------------------\u001b[0m",
            "\u001b[0;31mFileNotFoundError\u001b[0m                         Traceback (most recent call last)",
            "\u001b[0;32m<ipython-input-9-8d739076cdf4>\u001b[0m in \u001b[0;36m<module>\u001b[0;34m\u001b[0m\n\u001b[1;32m      3\u001b[0m \u001b[0;34m\u001b[0m\u001b[0m\n\u001b[1;32m      4\u001b[0m \u001b[0;32mimport\u001b[0m \u001b[0mpandas\u001b[0m \u001b[0;32mas\u001b[0m \u001b[0mpd\u001b[0m\u001b[0;34m\u001b[0m\u001b[0;34m\u001b[0m\u001b[0m\n\u001b[0;32m----> 5\u001b[0;31m \u001b[0mdata\u001b[0m \u001b[0;34m=\u001b[0m  \u001b[0mpd\u001b[0m\u001b[0;34m.\u001b[0m\u001b[0mread_csv\u001b[0m\u001b[0;34m(\u001b[0m\u001b[0;34m'cities.csv'\u001b[0m\u001b[0;34m)\u001b[0m\u001b[0;34m\u001b[0m\u001b[0;34m\u001b[0m\u001b[0m\n\u001b[0m\u001b[1;32m      6\u001b[0m \u001b[0mprint\u001b[0m\u001b[0;34m(\u001b[0m\u001b[0mdata\u001b[0m\u001b[0;34m)\u001b[0m\u001b[0;34m\u001b[0m\u001b[0;34m\u001b[0m\u001b[0m\n",
            "\u001b[0;32m/usr/local/lib/python3.8/dist-packages/pandas/util/_decorators.py\u001b[0m in \u001b[0;36mwrapper\u001b[0;34m(*args, **kwargs)\u001b[0m\n\u001b[1;32m    309\u001b[0m                     \u001b[0mstacklevel\u001b[0m\u001b[0;34m=\u001b[0m\u001b[0mstacklevel\u001b[0m\u001b[0;34m,\u001b[0m\u001b[0;34m\u001b[0m\u001b[0;34m\u001b[0m\u001b[0m\n\u001b[1;32m    310\u001b[0m                 )\n\u001b[0;32m--> 311\u001b[0;31m             \u001b[0;32mreturn\u001b[0m \u001b[0mfunc\u001b[0m\u001b[0;34m(\u001b[0m\u001b[0;34m*\u001b[0m\u001b[0margs\u001b[0m\u001b[0;34m,\u001b[0m \u001b[0;34m**\u001b[0m\u001b[0mkwargs\u001b[0m\u001b[0;34m)\u001b[0m\u001b[0;34m\u001b[0m\u001b[0;34m\u001b[0m\u001b[0m\n\u001b[0m\u001b[1;32m    312\u001b[0m \u001b[0;34m\u001b[0m\u001b[0m\n\u001b[1;32m    313\u001b[0m         \u001b[0;32mreturn\u001b[0m \u001b[0mwrapper\u001b[0m\u001b[0;34m\u001b[0m\u001b[0;34m\u001b[0m\u001b[0m\n",
            "\u001b[0;32m/usr/local/lib/python3.8/dist-packages/pandas/io/parsers/readers.py\u001b[0m in \u001b[0;36mread_csv\u001b[0;34m(filepath_or_buffer, sep, delimiter, header, names, index_col, usecols, squeeze, prefix, mangle_dupe_cols, dtype, engine, converters, true_values, false_values, skipinitialspace, skiprows, skipfooter, nrows, na_values, keep_default_na, na_filter, verbose, skip_blank_lines, parse_dates, infer_datetime_format, keep_date_col, date_parser, dayfirst, cache_dates, iterator, chunksize, compression, thousands, decimal, lineterminator, quotechar, quoting, doublequote, escapechar, comment, encoding, encoding_errors, dialect, error_bad_lines, warn_bad_lines, on_bad_lines, delim_whitespace, low_memory, memory_map, float_precision, storage_options)\u001b[0m\n\u001b[1;32m    584\u001b[0m     \u001b[0mkwds\u001b[0m\u001b[0;34m.\u001b[0m\u001b[0mupdate\u001b[0m\u001b[0;34m(\u001b[0m\u001b[0mkwds_defaults\u001b[0m\u001b[0;34m)\u001b[0m\u001b[0;34m\u001b[0m\u001b[0;34m\u001b[0m\u001b[0m\n\u001b[1;32m    585\u001b[0m \u001b[0;34m\u001b[0m\u001b[0m\n\u001b[0;32m--> 586\u001b[0;31m     \u001b[0;32mreturn\u001b[0m \u001b[0m_read\u001b[0m\u001b[0;34m(\u001b[0m\u001b[0mfilepath_or_buffer\u001b[0m\u001b[0;34m,\u001b[0m \u001b[0mkwds\u001b[0m\u001b[0;34m)\u001b[0m\u001b[0;34m\u001b[0m\u001b[0;34m\u001b[0m\u001b[0m\n\u001b[0m\u001b[1;32m    587\u001b[0m \u001b[0;34m\u001b[0m\u001b[0m\n\u001b[1;32m    588\u001b[0m \u001b[0;34m\u001b[0m\u001b[0m\n",
            "\u001b[0;32m/usr/local/lib/python3.8/dist-packages/pandas/io/parsers/readers.py\u001b[0m in \u001b[0;36m_read\u001b[0;34m(filepath_or_buffer, kwds)\u001b[0m\n\u001b[1;32m    480\u001b[0m \u001b[0;34m\u001b[0m\u001b[0m\n\u001b[1;32m    481\u001b[0m     \u001b[0;31m# Create the parser.\u001b[0m\u001b[0;34m\u001b[0m\u001b[0;34m\u001b[0m\u001b[0;34m\u001b[0m\u001b[0m\n\u001b[0;32m--> 482\u001b[0;31m     \u001b[0mparser\u001b[0m \u001b[0;34m=\u001b[0m \u001b[0mTextFileReader\u001b[0m\u001b[0;34m(\u001b[0m\u001b[0mfilepath_or_buffer\u001b[0m\u001b[0;34m,\u001b[0m \u001b[0;34m**\u001b[0m\u001b[0mkwds\u001b[0m\u001b[0;34m)\u001b[0m\u001b[0;34m\u001b[0m\u001b[0;34m\u001b[0m\u001b[0m\n\u001b[0m\u001b[1;32m    483\u001b[0m \u001b[0;34m\u001b[0m\u001b[0m\n\u001b[1;32m    484\u001b[0m     \u001b[0;32mif\u001b[0m \u001b[0mchunksize\u001b[0m \u001b[0;32mor\u001b[0m \u001b[0miterator\u001b[0m\u001b[0;34m:\u001b[0m\u001b[0;34m\u001b[0m\u001b[0;34m\u001b[0m\u001b[0m\n",
            "\u001b[0;32m/usr/local/lib/python3.8/dist-packages/pandas/io/parsers/readers.py\u001b[0m in \u001b[0;36m__init__\u001b[0;34m(self, f, engine, **kwds)\u001b[0m\n\u001b[1;32m    809\u001b[0m             \u001b[0mself\u001b[0m\u001b[0;34m.\u001b[0m\u001b[0moptions\u001b[0m\u001b[0;34m[\u001b[0m\u001b[0;34m\"has_index_names\"\u001b[0m\u001b[0;34m]\u001b[0m \u001b[0;34m=\u001b[0m \u001b[0mkwds\u001b[0m\u001b[0;34m[\u001b[0m\u001b[0;34m\"has_index_names\"\u001b[0m\u001b[0;34m]\u001b[0m\u001b[0;34m\u001b[0m\u001b[0;34m\u001b[0m\u001b[0m\n\u001b[1;32m    810\u001b[0m \u001b[0;34m\u001b[0m\u001b[0m\n\u001b[0;32m--> 811\u001b[0;31m         \u001b[0mself\u001b[0m\u001b[0;34m.\u001b[0m\u001b[0m_engine\u001b[0m \u001b[0;34m=\u001b[0m \u001b[0mself\u001b[0m\u001b[0;34m.\u001b[0m\u001b[0m_make_engine\u001b[0m\u001b[0;34m(\u001b[0m\u001b[0mself\u001b[0m\u001b[0;34m.\u001b[0m\u001b[0mengine\u001b[0m\u001b[0;34m)\u001b[0m\u001b[0;34m\u001b[0m\u001b[0;34m\u001b[0m\u001b[0m\n\u001b[0m\u001b[1;32m    812\u001b[0m \u001b[0;34m\u001b[0m\u001b[0m\n\u001b[1;32m    813\u001b[0m     \u001b[0;32mdef\u001b[0m \u001b[0mclose\u001b[0m\u001b[0;34m(\u001b[0m\u001b[0mself\u001b[0m\u001b[0;34m)\u001b[0m\u001b[0;34m:\u001b[0m\u001b[0;34m\u001b[0m\u001b[0;34m\u001b[0m\u001b[0m\n",
            "\u001b[0;32m/usr/local/lib/python3.8/dist-packages/pandas/io/parsers/readers.py\u001b[0m in \u001b[0;36m_make_engine\u001b[0;34m(self, engine)\u001b[0m\n\u001b[1;32m   1038\u001b[0m             )\n\u001b[1;32m   1039\u001b[0m         \u001b[0;31m# error: Too many arguments for \"ParserBase\"\u001b[0m\u001b[0;34m\u001b[0m\u001b[0;34m\u001b[0m\u001b[0;34m\u001b[0m\u001b[0m\n\u001b[0;32m-> 1040\u001b[0;31m         \u001b[0;32mreturn\u001b[0m \u001b[0mmapping\u001b[0m\u001b[0;34m[\u001b[0m\u001b[0mengine\u001b[0m\u001b[0;34m]\u001b[0m\u001b[0;34m(\u001b[0m\u001b[0mself\u001b[0m\u001b[0;34m.\u001b[0m\u001b[0mf\u001b[0m\u001b[0;34m,\u001b[0m \u001b[0;34m**\u001b[0m\u001b[0mself\u001b[0m\u001b[0;34m.\u001b[0m\u001b[0moptions\u001b[0m\u001b[0;34m)\u001b[0m  \u001b[0;31m# type: ignore[call-arg]\u001b[0m\u001b[0;34m\u001b[0m\u001b[0;34m\u001b[0m\u001b[0m\n\u001b[0m\u001b[1;32m   1041\u001b[0m \u001b[0;34m\u001b[0m\u001b[0m\n\u001b[1;32m   1042\u001b[0m     \u001b[0;32mdef\u001b[0m \u001b[0m_failover_to_python\u001b[0m\u001b[0;34m(\u001b[0m\u001b[0mself\u001b[0m\u001b[0;34m)\u001b[0m\u001b[0;34m:\u001b[0m\u001b[0;34m\u001b[0m\u001b[0;34m\u001b[0m\u001b[0m\n",
            "\u001b[0;32m/usr/local/lib/python3.8/dist-packages/pandas/io/parsers/c_parser_wrapper.py\u001b[0m in \u001b[0;36m__init__\u001b[0;34m(self, src, **kwds)\u001b[0m\n\u001b[1;32m     49\u001b[0m \u001b[0;34m\u001b[0m\u001b[0m\n\u001b[1;32m     50\u001b[0m         \u001b[0;31m# open handles\u001b[0m\u001b[0;34m\u001b[0m\u001b[0;34m\u001b[0m\u001b[0;34m\u001b[0m\u001b[0m\n\u001b[0;32m---> 51\u001b[0;31m         \u001b[0mself\u001b[0m\u001b[0;34m.\u001b[0m\u001b[0m_open_handles\u001b[0m\u001b[0;34m(\u001b[0m\u001b[0msrc\u001b[0m\u001b[0;34m,\u001b[0m \u001b[0mkwds\u001b[0m\u001b[0;34m)\u001b[0m\u001b[0;34m\u001b[0m\u001b[0;34m\u001b[0m\u001b[0m\n\u001b[0m\u001b[1;32m     52\u001b[0m         \u001b[0;32massert\u001b[0m \u001b[0mself\u001b[0m\u001b[0;34m.\u001b[0m\u001b[0mhandles\u001b[0m \u001b[0;32mis\u001b[0m \u001b[0;32mnot\u001b[0m \u001b[0;32mNone\u001b[0m\u001b[0;34m\u001b[0m\u001b[0;34m\u001b[0m\u001b[0m\n\u001b[1;32m     53\u001b[0m \u001b[0;34m\u001b[0m\u001b[0m\n",
            "\u001b[0;32m/usr/local/lib/python3.8/dist-packages/pandas/io/parsers/base_parser.py\u001b[0m in \u001b[0;36m_open_handles\u001b[0;34m(self, src, kwds)\u001b[0m\n\u001b[1;32m    220\u001b[0m         \u001b[0mLet\u001b[0m \u001b[0mthe\u001b[0m \u001b[0mreaders\u001b[0m \u001b[0mopen\u001b[0m \u001b[0mIOHandles\u001b[0m \u001b[0mafter\u001b[0m \u001b[0mthey\u001b[0m \u001b[0mare\u001b[0m \u001b[0mdone\u001b[0m \u001b[0;32mwith\u001b[0m \u001b[0mtheir\u001b[0m \u001b[0mpotential\u001b[0m \u001b[0mraises\u001b[0m\u001b[0;34m.\u001b[0m\u001b[0;34m\u001b[0m\u001b[0;34m\u001b[0m\u001b[0m\n\u001b[1;32m    221\u001b[0m         \"\"\"\n\u001b[0;32m--> 222\u001b[0;31m         self.handles = get_handle(\n\u001b[0m\u001b[1;32m    223\u001b[0m             \u001b[0msrc\u001b[0m\u001b[0;34m,\u001b[0m\u001b[0;34m\u001b[0m\u001b[0;34m\u001b[0m\u001b[0m\n\u001b[1;32m    224\u001b[0m             \u001b[0;34m\"r\"\u001b[0m\u001b[0;34m,\u001b[0m\u001b[0;34m\u001b[0m\u001b[0;34m\u001b[0m\u001b[0m\n",
            "\u001b[0;32m/usr/local/lib/python3.8/dist-packages/pandas/io/common.py\u001b[0m in \u001b[0;36mget_handle\u001b[0;34m(path_or_buf, mode, encoding, compression, memory_map, is_text, errors, storage_options)\u001b[0m\n\u001b[1;32m    700\u001b[0m         \u001b[0;32mif\u001b[0m \u001b[0mioargs\u001b[0m\u001b[0;34m.\u001b[0m\u001b[0mencoding\u001b[0m \u001b[0;32mand\u001b[0m \u001b[0;34m\"b\"\u001b[0m \u001b[0;32mnot\u001b[0m \u001b[0;32min\u001b[0m \u001b[0mioargs\u001b[0m\u001b[0;34m.\u001b[0m\u001b[0mmode\u001b[0m\u001b[0;34m:\u001b[0m\u001b[0;34m\u001b[0m\u001b[0;34m\u001b[0m\u001b[0m\n\u001b[1;32m    701\u001b[0m             \u001b[0;31m# Encoding\u001b[0m\u001b[0;34m\u001b[0m\u001b[0;34m\u001b[0m\u001b[0;34m\u001b[0m\u001b[0m\n\u001b[0;32m--> 702\u001b[0;31m             handle = open(\n\u001b[0m\u001b[1;32m    703\u001b[0m                 \u001b[0mhandle\u001b[0m\u001b[0;34m,\u001b[0m\u001b[0;34m\u001b[0m\u001b[0;34m\u001b[0m\u001b[0m\n\u001b[1;32m    704\u001b[0m                 \u001b[0mioargs\u001b[0m\u001b[0;34m.\u001b[0m\u001b[0mmode\u001b[0m\u001b[0;34m,\u001b[0m\u001b[0;34m\u001b[0m\u001b[0;34m\u001b[0m\u001b[0m\n",
            "\u001b[0;31mFileNotFoundError\u001b[0m: [Errno 2] No such file or directory: 'cities.csv'"
          ]
        }
      ],
      "source": [
        "# Creating a dataframe from a CSV file (in this case, the file \"cities.csv\" must be\n",
        "# in your working directory for the code below to run)\n",
        "\n",
        "import pandas as pd\n",
        "data =  pd.read_csv('cities.csv')\n",
        "print(data)"
      ]
    },
    {
      "cell_type": "code",
      "execution_count": 10,
      "metadata": {
        "colab": {
          "base_uri": "https://localhost:8080/"
        },
        "id": "CRzOFtAbIWkE",
        "outputId": "c87bf303-3c33-4ec6-d885-f9ed12884898"
      },
      "outputs": [
        {
          "name": "stdout",
          "output_type": "stream",
          "text": [
            "            State    Capital  Literacy %  Avg High Temp(c)\n",
            "0  Andhra Pradesh  Hyderabad          89                33\n",
            "1     Maharashtra     Mumbai          77                30\n",
            "\n",
            "        State     Capital  Literacy %  Avg High Temp(c)\n",
            "3      Kerala  Trivandrum          97                31\n",
            "4  Tamil Nadu     Chennai          85                32\n",
            "\n",
            "count     5.000000\n",
            "mean     86.000000\n",
            "std       7.549834\n",
            "min      77.000000\n",
            "25%      82.000000\n",
            "50%      85.000000\n",
            "75%      89.000000\n",
            "max      97.000000\n",
            "Name: Literacy %, dtype: float64\n",
            "\n",
            "            State     Capital  Literacy %  Avg High Temp(c)\n",
            "3          Kerala  Trivandrum          97                31\n",
            "0  Andhra Pradesh   Hyderabad          89                33\n",
            "4      Tamil Nadu     Chennai          85                32\n",
            "2       Karnataka   Bengaluru          82                29\n",
            "1     Maharashtra      Mumbai          77                30\n"
          ]
        }
      ],
      "source": [
        "# Displaying the first two rows of the dataframe\n",
        "print(df.head(2))\n",
        "print()\n",
        "\n",
        "# Displaying the last two rows of the dataframe\n",
        "print(df.tail(2))\n",
        "print()\n",
        "\n",
        "# Displaying the summary of the \"Literacy\" column\n",
        "print(df['Literacy %'].describe())\n",
        "print()\n",
        "\n",
        "# Sorting literacy values\n",
        "print(df.sort_values('Literacy %', ascending=False))"
      ]
    },
    {
      "cell_type": "markdown",
      "metadata": {
        "id": "oZOg9YjWIWkE"
      },
      "source": [
        "* Slicing / filtering rows and columns"
      ]
    },
    {
      "cell_type": "code",
      "execution_count": 11,
      "metadata": {
        "colab": {
          "base_uri": "https://localhost:8080/"
        },
        "id": "tsI3DwBMIWkE",
        "outputId": "cdb23c57-2f2a-40b8-a1e5-78651c718ec7"
      },
      "outputs": [
        {
          "name": "stdout",
          "output_type": "stream",
          "text": [
            "0     Hyderabad\n",
            "1        Mumbai\n",
            "2     Bengaluru\n",
            "3    Trivandrum\n",
            "4       Chennai\n",
            "Name: Capital, dtype: object\n",
            "\n",
            "0     Hyderabad\n",
            "1        Mumbai\n",
            "2     Bengaluru\n",
            "3    Trivandrum\n",
            "4       Chennai\n",
            "Name: Capital, dtype: object\n",
            "\n",
            "            State     Capital  Literacy %  Avg High Temp(c)\n",
            "0  Andhra Pradesh   Hyderabad          89                33\n",
            "2       Karnataka   Bengaluru          82                29\n",
            "3          Kerala  Trivandrum          97                31\n",
            "4      Tamil Nadu     Chennai          85                32\n",
            "\n",
            "        State    Capital  Literacy %  Avg High Temp(c)\n",
            "2   Karnataka  Bengaluru          82                29\n",
            "4  Tamil Nadu    Chennai          85                32\n",
            "\n"
          ]
        }
      ],
      "source": [
        "# Slicing / extracting data of a column\n",
        "print(df['Capital'])\n",
        "print()\n",
        "\n",
        "# OR use an object notation\n",
        "print(df.Capital)\n",
        "print()\n",
        "\n",
        "# Filtering data\n",
        "print(df[df['Literacy %']>80])\n",
        "print()\n",
        "print(df[df['State'].isin(['Karnataka', 'Tamil Nadu'])])\n",
        "print()"
      ]
    },
    {
      "cell_type": "markdown",
      "metadata": {
        "id": "I_T3SyKJIWkF"
      },
      "source": [
        "* Renaming columns"
      ]
    },
    {
      "cell_type": "code",
      "execution_count": 12,
      "metadata": {
        "colab": {
          "base_uri": "https://localhost:8080/"
        },
        "id": "p8gLZcxBIWkF",
        "outputId": "fa0c3d87-3061-4143-f160-f7f44cecbc07"
      },
      "outputs": [
        {
          "name": "stdout",
          "output_type": "stream",
          "text": [
            "            State     Capital  Literacy percentage  Avg High Temp(c)\n",
            "0  Andhra Pradesh   Hyderabad                   89                33\n",
            "1     Maharashtra      Mumbai                   77                30\n",
            "2       Karnataka   Bengaluru                   82                29\n",
            "3          Kerala  Trivandrum                   97                31\n",
            "4      Tamil Nadu     Chennai                   85                32\n"
          ]
        }
      ],
      "source": [
        "# Rename the \"Literacy %\" column to \"Literacy percentage\"\n",
        "df.rename(columns = {'Literacy %':'Literacy percentage'}, inplace=True)\n",
        "print(df.head())"
      ]
    },
    {
      "cell_type": "markdown",
      "metadata": {
        "id": "juKRl9bcIWkF"
      },
      "source": [
        "* Manipulating Dataframes"
      ]
    },
    {
      "cell_type": "code",
      "execution_count": 13,
      "metadata": {
        "colab": {
          "base_uri": "https://localhost:8080/"
        },
        "id": "bNJKVxCKIWkG",
        "outputId": "d050c7bc-630a-48ce-d30f-be3134f6497b"
      },
      "outputs": [
        {
          "name": "stdout",
          "output_type": "stream",
          "text": [
            "  Employee_id Employee_name\n",
            "0           1        Akshar\n",
            "1           2         Jones\n",
            "2           3          Kate\n",
            "3           4          Mike\n",
            "4           5          Tina\n",
            "\n",
            "  Employee_id Employee_name\n",
            "0           4         Meera\n",
            "1           5           Tia\n",
            "2           6        Varsha\n",
            "3           7      Williams\n",
            "4           8          Ziva\n"
          ]
        }
      ],
      "source": [
        "import pandas as pd\n",
        "\n",
        "# First dataframe\n",
        "d1 = {  \n",
        "    'Employee_id': ['1', '2', '3', '4', '5'],\n",
        "    'Employee_name': ['Akshar', 'Jones', 'Kate', 'Mike', 'Tina']\n",
        "}\n",
        "df1 = pd.DataFrame(d1, columns=['Employee_id', 'Employee_name'])  \n",
        "print(df1)\n",
        "print()\n",
        "\n",
        "# Second dataframe\n",
        "d2 = {  \n",
        "    'Employee_id': ['4', '5', '6', '7', '8'],\n",
        "    'Employee_name': ['Meera', 'Tia', 'Varsha', 'Williams', 'Ziva']\n",
        "}\n",
        "df2 = pd.DataFrame(d2, columns=['Employee_id', 'Employee_name'])  \n",
        "print(df2)"
      ]
    },
    {
      "cell_type": "markdown",
      "metadata": {
        "id": "O_Ylh0DVIWkG"
      },
      "source": [
        "* Merging dataframes"
      ]
    },
    {
      "cell_type": "code",
      "execution_count": 14,
      "metadata": {
        "colab": {
          "base_uri": "https://localhost:8080/"
        },
        "id": "C85gNCOqIWkH",
        "outputId": "73315bdb-9862-419e-b654-264b85e06d19"
      },
      "outputs": [
        {
          "name": "stdout",
          "output_type": "stream",
          "text": [
            "  Employee_id Employee_name_x Employee_name_y\n",
            "0           4            Mike           Meera\n",
            "1           5            Tina             Tia\n",
            "\n",
            "  Employee_id Employee_name\n",
            "0           4         Meera\n",
            "1           5           Tia\n",
            "2           6        Varsha\n",
            "3           7      Williams\n",
            "4           8          Ziva\n"
          ]
        }
      ],
      "source": [
        "print(pd.merge(df1, df2, on='Employee_id'))\n",
        "print()\n",
        "print(df2)"
      ]
    },
    {
      "cell_type": "markdown",
      "metadata": {
        "id": "hWLtY8eTIWkH"
      },
      "source": [
        "* Grouping data"
      ]
    },
    {
      "cell_type": "code",
      "execution_count": 15,
      "metadata": {
        "colab": {
          "base_uri": "https://localhost:8080/"
        },
        "id": "IdYeCwO6IWkH",
        "outputId": "8aa55624-c8b9-4371-d19f-e1dce1c60bad"
      },
      "outputs": [
        {
          "name": "stdout",
          "output_type": "stream",
          "text": [
            "  Employee_id Employee_name\n",
            "0           4         Meera\n"
          ]
        }
      ],
      "source": [
        "group = df2.groupby('Employee_name')\n",
        "print(group.get_group('Meera'))"
      ]
    },
    {
      "cell_type": "markdown",
      "metadata": {
        "id": "68DIDMvgIWkI"
      },
      "source": [
        "* Concatenating"
      ]
    },
    {
      "cell_type": "code",
      "execution_count": 16,
      "metadata": {
        "colab": {
          "base_uri": "https://localhost:8080/"
        },
        "id": "feDHwu4_IWkI",
        "outputId": "a709593c-018c-4e97-be15-7fcd2823be0c"
      },
      "outputs": [
        {
          "name": "stdout",
          "output_type": "stream",
          "text": [
            "  Employee_id Employee_name\n",
            "0           1        Akshar\n",
            "1           2         Jones\n",
            "2           3          Kate\n",
            "3           4          Mike\n",
            "4           5          Tina\n",
            "0           4         Meera\n",
            "1           5           Tia\n",
            "2           6        Varsha\n",
            "3           7      Williams\n",
            "4           8          Ziva\n"
          ]
        }
      ],
      "source": [
        "print(pd.concat([df1, df2]))"
      ]
    },
    {
      "cell_type": "markdown",
      "metadata": {
        "id": "FNek0NbnIWkJ"
      },
      "source": [
        "* Pandas applications\n",
        "    + Since Pandas is built on top of numPy, both libraries share common applications in data science\n",
        "    and machine learning. \n",
        "    + Futhermore, because pandas allows data to be organized in a tabular fashion,\n",
        "    it is a very useful tool for displaying financial information.\n",
        "    + Very good integration with Jupyter Notebook\n",
        "\n",
        "Pandas functions: https://pandas.pydata.org/docs/reference/general_functions.html </br>\n",
        "References: https://www.geeksforgeeks.org/introduction-to-pandas-in-python/"
      ]
    },
    {
      "cell_type": "markdown",
      "metadata": {
        "id": "5nGC6yW8IWkJ"
      },
      "source": [
        "4. Displaying financial data with plotly and streamlit"
      ]
    },
    {
      "cell_type": "markdown",
      "metadata": {
        "id": "OW__JPKkIWkJ"
      },
      "source": [
        "* We will use plotly and streamlit for the project\n",
        "* plotly is a very beginner-friendly way of plotting in Python, and it has many\n",
        "applications in finance, such as the stock filter that we will build for this \n",
        "project.\n",
        "* Streamlit allows us to seeminglessly publish plotly graphs online\n",
        "* Good resources:\n",
        "    + https://www.geeksforgeeks.org/python-plotly-tutorial/\n",
        "    + Used in this lecture: https://towardsdatascience.com/a-multi-page-interactive-dashboard-with-streamlit-and-plotly-c3182443871a"
      ]
    },
    {
      "cell_type": "markdown",
      "metadata": {
        "id": "492aKKV_IWkK"
      },
      "source": [
        "First, we must install streamlit and plotly:\n",
        "```\n",
        "pip3 install streamlit\n",
        "pip install plotly\n",
        "```\n",
        "\n",
        "To run a streamlit app, we will type:\n",
        "\n",
        "```\n",
        "streamlit run myapp.py\n",
        "```"
      ]
    },
    {
      "cell_type": "markdown",
      "metadata": {
        "id": "9IW7deSkIWkK"
      },
      "source": [
        "In the Python file that streamlit will run, we can enter the following code:"
      ]
    },
    {
      "cell_type": "code",
      "execution_count": 17,
      "metadata": {
        "colab": {
          "base_uri": "https://localhost:8080/",
          "height": 374
        },
        "id": "k6t7ggNFIWkK",
        "outputId": "2a7be5c5-f5ac-4121-d205-7f900148dc21"
      },
      "outputs": [
        {
          "ename": "ModuleNotFoundError",
          "evalue": "ignored",
          "output_type": "error",
          "traceback": [
            "\u001b[0;31m---------------------------------------------------------------------------\u001b[0m",
            "\u001b[0;31mModuleNotFoundError\u001b[0m                       Traceback (most recent call last)",
            "\u001b[0;32m<ipython-input-17-70a1992e7d8d>\u001b[0m in \u001b[0;36m<module>\u001b[0;34m\u001b[0m\n\u001b[1;32m      1\u001b[0m \u001b[0;31m# The code below will only run with Streamlit installed!\u001b[0m\u001b[0;34m\u001b[0m\u001b[0;34m\u001b[0m\u001b[0;34m\u001b[0m\u001b[0m\n\u001b[0;32m----> 2\u001b[0;31m \u001b[0;32mimport\u001b[0m \u001b[0mstreamlit\u001b[0m \u001b[0;32mas\u001b[0m \u001b[0mst\u001b[0m\u001b[0;34m\u001b[0m\u001b[0;34m\u001b[0m\u001b[0m\n\u001b[0m\u001b[1;32m      3\u001b[0m \u001b[0;32mimport\u001b[0m \u001b[0mpandas\u001b[0m \u001b[0;32mas\u001b[0m \u001b[0mpd\u001b[0m\u001b[0;34m\u001b[0m\u001b[0;34m\u001b[0m\u001b[0m\n\u001b[1;32m      4\u001b[0m \u001b[0;32mimport\u001b[0m \u001b[0mplotly\u001b[0m\u001b[0;34m.\u001b[0m\u001b[0mexpress\u001b[0m \u001b[0;32mas\u001b[0m \u001b[0mpx\u001b[0m\u001b[0;34m\u001b[0m\u001b[0;34m\u001b[0m\u001b[0m\n\u001b[1;32m      5\u001b[0m \u001b[0;34m\u001b[0m\u001b[0m\n",
            "\u001b[0;31mModuleNotFoundError\u001b[0m: No module named 'streamlit'",
            "",
            "\u001b[0;31m---------------------------------------------------------------------------\u001b[0;32m\nNOTE: If your import is failing due to a missing package, you can\nmanually install dependencies using either !pip or !apt.\n\nTo view examples of installing some common dependencies, click the\n\"Open Examples\" button below.\n\u001b[0;31m---------------------------------------------------------------------------\u001b[0m\n"
          ]
        }
      ],
      "source": [
        "# The code below will only run with Streamlit installed!\n",
        "import streamlit as st\n",
        "import pandas as pd\n",
        "import plotly.express as px\n",
        "\n",
        "# In this example, we will use the Gapminder data included in plotly.\n",
        "df = pd.DataFrame(px.data.gapminder())\n",
        "\n",
        "# Check out the data\n",
        "print(df)\n",
        "\n",
        "# Get unique country names\n",
        "clist = df['country'].unique()\n",
        "\n",
        "# Country dropdown\n",
        "country = st.sidebar.selectbox(\"Select a country:\",clist)\n",
        "\n",
        "# Plot header\n",
        "st.header(\"GDP per Capita over time\")\n",
        "\n",
        "# Creating a line with plotly\n",
        "fig = px.line(df[df['country'] == country], \n",
        "    x = \"year\", y = \"gdpPercap\", title = country)\n",
        "\n",
        "# Plotting\n",
        "st.plotly_chart(fig)"
      ]
    },
    {
      "cell_type": "markdown",
      "metadata": {
        "id": "H-GU6ZEMIWkK"
      },
      "source": [
        "* Pagination (optional, but makes program cleaner)"
      ]
    },
    {
      "cell_type": "code",
      "execution_count": null,
      "metadata": {
        "id": "KR5ekcooIWkL"
      },
      "outputs": [],
      "source": [
        "# This is the logic:\n",
        "\n",
        "page = st.sidebar.selectbox('Select page',\n",
        "  ['Country data','Continent data'])\n",
        "if page == 'Country data':\n",
        "  # Display the country content here\n",
        "  pass\n",
        "else:\n",
        "  # Display the continent content here\n",
        "  pass"
      ]
    },
    {
      "cell_type": "code",
      "execution_count": null,
      "metadata": {
        "id": "DlrDsbZeIWkL"
      },
      "outputs": [],
      "source": [
        "# Actual implementation\n",
        "\n",
        "# Importing packages\n",
        "import streamlit as st\n",
        "import pandas as pd\n",
        "import plotly.express as px\n",
        "\n",
        "# Page configurations\n",
        "st.set_page_config(layout = \"wide\")\n",
        "df = pd.DataFrame(px.data.gapminder())\n",
        "st.header(\"National Statistics\")\n",
        "page = st.sidebar.selectbox('Select page',\n",
        "  ['Country data','Continent data'])\n",
        "\n",
        "# Selecting for country or continent\n",
        "## Countries\n",
        "if page == 'Country data':\n",
        "  clist = df['country'].unique()\n",
        "  country = st.selectbox(\"Select a country:\",clist)\n",
        "  col1, col2 = st.columns(2)\n",
        "  fig = px.line(df[df['country'] == country], \n",
        "    x = \"year\", y = \"gdpPercap\",title = \"GDP per Capita\")\n",
        " \n",
        "  col1.plotly_chart(fig,use_container_width = True)\n",
        "  fig = px.line(df[df['country'] == country], \n",
        "    x = \"year\", y = \"pop\",title = \"Population Growth\")\n",
        "  \n",
        "  col2.plotly_chart(fig,use_container_width = True)\n",
        "\n",
        "## Continents\n",
        "else:\n",
        "  contlist = df['continent'].unique()\n",
        " \n",
        "  continent = st.selectbox(\"Select a continent:\",contlist)\n",
        "  col1,col2 = st.columns(2)\n",
        "  fig = px.line(df[df['continent'] == continent], \n",
        "    x = \"year\", y = \"gdpPercap\",\n",
        "    title = \"GDP per Capita\",color = 'country')\n",
        "  \n",
        "  col1.plotly_chart(fig)\n",
        "  fig = px.line(df[df['continent'] == continent], \n",
        "    x = \"year\", y = \"pop\",\n",
        "    title = \"Population\",color = 'country')\n",
        "  \n",
        "  col2.plotly_chart(fig, use_container_width = True)\n",
        "\n",
        "# Notice the amount of repeated code.. how can we optimize?"
      ]
    },
    {
      "cell_type": "markdown",
      "metadata": {
        "id": "fhxAtz87IWkM"
      },
      "source": [
        "5. Displaying financial data with matplotlib (one example)"
      ]
    },
    {
      "cell_type": "markdown",
      "metadata": {
        "id": "zwoVFojZIWkM"
      },
      "source": [
        "* Although we won't use matplotlib for the project, it is the most popular\n",
        "library for graphing data on Python, so I have included an example here, taken\n",
        "from matplotlib's official website."
      ]
    },
    {
      "cell_type": "code",
      "execution_count": 18,
      "metadata": {
        "colab": {
          "base_uri": "https://localhost:8080/",
          "height": 374
        },
        "id": "RM4MKcUOIWkM",
        "outputId": "3cb251c3-f9bc-4670-814a-d4ff286bcba1"
      },
      "outputs": [
        {
          "ename": "ModuleNotFoundError",
          "evalue": "ignored",
          "output_type": "error",
          "traceback": [
            "\u001b[0;31m---------------------------------------------------------------------------\u001b[0m",
            "\u001b[0;31mModuleNotFoundError\u001b[0m                       Traceback (most recent call last)",
            "\u001b[0;32m<ipython-input-18-8825c944d48c>\u001b[0m in \u001b[0;36m<module>\u001b[0;34m\u001b[0m\n\u001b[1;32m      5\u001b[0m \u001b[0;32mfrom\u001b[0m \u001b[0mmatplotlib\u001b[0m\u001b[0;34m.\u001b[0m\u001b[0mdates\u001b[0m \u001b[0;32mimport\u001b[0m \u001b[0mDateFormatter\u001b[0m\u001b[0;34m,\u001b[0m \u001b[0mWeekdayLocator\u001b[0m\u001b[0;34m,\u001b[0m\u001b[0;31m\\\u001b[0m\u001b[0;34m\u001b[0m\u001b[0;34m\u001b[0m\u001b[0m\n\u001b[1;32m      6\u001b[0m     \u001b[0mDayLocator\u001b[0m\u001b[0;34m,\u001b[0m \u001b[0mMONDAY\u001b[0m\u001b[0;34m\u001b[0m\u001b[0;34m\u001b[0m\u001b[0m\n\u001b[0;32m----> 7\u001b[0;31m \u001b[0;32mfrom\u001b[0m \u001b[0mmatplotlib\u001b[0m\u001b[0;34m.\u001b[0m\u001b[0mfinance\u001b[0m \u001b[0;32mimport\u001b[0m \u001b[0mquotes_historical_yahoo_ohlc\u001b[0m\u001b[0;34m,\u001b[0m \u001b[0mcandlestick_ohlc\u001b[0m\u001b[0;34m\u001b[0m\u001b[0;34m\u001b[0m\u001b[0m\n\u001b[0m\u001b[1;32m      8\u001b[0m \u001b[0;34m\u001b[0m\u001b[0m\n\u001b[1;32m      9\u001b[0m \u001b[0;34m\u001b[0m\u001b[0m\n",
            "\u001b[0;31mModuleNotFoundError\u001b[0m: No module named 'matplotlib.finance'",
            "",
            "\u001b[0;31m---------------------------------------------------------------------------\u001b[0;32m\nNOTE: If your import is failing due to a missing package, you can\nmanually install dependencies using either !pip or !apt.\n\nTo view examples of installing some common dependencies, click the\n\"Open Examples\" button below.\n\u001b[0;31m---------------------------------------------------------------------------\u001b[0m\n"
          ]
        }
      ],
      "source": [
        "# Example available at: \n",
        "# https://matplotlib.org/1.5.3/examples/pylab_examples/finance_demo.html\n",
        "\n",
        "import matplotlib.pyplot as plt\n",
        "from matplotlib.dates import DateFormatter, WeekdayLocator,\\\n",
        "    DayLocator, MONDAY\n",
        "from matplotlib.finance import quotes_historical_yahoo_ohlc, candlestick_ohlc\n",
        "\n",
        "\n",
        "# (Year, month, day) tuples suffice as args for quotes_historical_yahoo\n",
        "date1 = (2004, 2, 1)\n",
        "date2 = (2004, 4, 12)\n",
        "\n",
        "\n",
        "mondays = WeekdayLocator(MONDAY)        # major ticks on the mondays\n",
        "alldays = DayLocator()              # minor ticks on the days\n",
        "weekFormatter = DateFormatter('%b %d')  # e.g., Jan 12\n",
        "dayFormatter = DateFormatter('%d')      # e.g., 12\n",
        "\n",
        "quotes = quotes_historical_yahoo_ohlc('INTC', date1, date2)\n",
        "if len(quotes) == 0:\n",
        "    raise SystemExit\n",
        "\n",
        "fig, ax = plt.subplots()\n",
        "fig.subplots_adjust(bottom=0.2)\n",
        "ax.xaxis.set_major_locator(mondays)\n",
        "ax.xaxis.set_minor_locator(alldays)\n",
        "ax.xaxis.set_major_formatter(weekFormatter)\n",
        "#ax.xaxis.set_minor_formatter(dayFormatter)\n",
        "\n",
        "#plot_day_summary(ax, quotes, ticksize=3)\n",
        "candlestick_ohlc(ax, quotes, width=0.6)\n",
        "\n",
        "ax.xaxis_date()\n",
        "ax.autoscale_view()\n",
        "plt.setp(plt.gca().get_xticklabels(), rotation=45, horizontalalignment='right')\n"
      ]
    }
  ],
  "metadata": {
    "colab": {
      "include_colab_link": true,
      "provenance": []
    },
    "kernelspec": {
      "display_name": "Python 3",
      "language": "python",
      "name": "python3"
    },
    "language_info": {
      "codemirror_mode": {
        "name": "ipython",
        "version": 3
      },
      "file_extension": ".py",
      "mimetype": "text/x-python",
      "name": "python",
      "nbconvert_exporter": "python",
      "pygments_lexer": "ipython3",
      "version": "3.10.4 (main, Jan 25 2023, 00:13:50) [GCC 9.4.0]"
    },
    "vscode": {
      "interpreter": {
        "hash": "3ad933181bd8a04b432d3370b9dc3b0662ad032c4dfaa4e4f1596c548f763858"
      }
    }
  },
  "nbformat": 4,
  "nbformat_minor": 0
}
